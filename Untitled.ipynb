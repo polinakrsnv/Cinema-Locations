{
 "cells": [
  {
   "cell_type": "markdown",
   "metadata": {},
   "source": [
    "# Библиотека Implicit"
   ]
  },
  {
   "cell_type": "markdown",
   "metadata": {},
   "source": [
    "Одним из способов создания рекомендательной системы является использование Implicit. \n",
    "\n",
    "Implicit – библиотека с реализованной коллаборативной фильтрацией."
   ]
  },
  {
   "cell_type": "markdown",
   "metadata": {},
   "source": [
    "### Установка"
   ]
  },
  {
   "cell_type": "code",
   "execution_count": null,
   "metadata": {},
   "outputs": [],
   "source": [
    "# Linux, Windows, OSX\n",
    "conda install -c conda-forge implicit\n",
    "# GPU enabled packages\n",
    "conda install -c conda-forge implicit implicit-proc=*=gpu\n",
    "# sdist package on PyPi\n",
    "pip install implicit"
   ]
  },
  {
   "cell_type": "code",
   "execution_count": null,
   "metadata": {},
   "outputs": [],
   "source": [
    "# у меня получилось этим способом\n",
    "conda install -c conda-forge/label/gcc7 implicit"
   ]
  },
  {
   "cell_type": "markdown",
   "metadata": {},
   "source": [
    "### Использование\n"
   ]
  },
  {
   "cell_type": "code",
   "execution_count": null,
   "metadata": {},
   "outputs": [],
   "source": [
    "import implicit\n",
    "\n",
    "# initialize a model\n",
    "model = implicit.als.AlternatingLeastSquares(factors=50)\n",
    "\n",
    "# train the model on a sparse matrix of item/user/confidence weights\n",
    "model.fit(item_user_data)\n",
    "\n",
    "# recommend items for a user\n",
    "user_items = item_user_data.T.tocsr()\n",
    "recommendations = model.recommend(userid, user_items)\n",
    "\n",
    "# find related items\n",
    "related = model.similar_items(itemid)"
   ]
  },
  {
   "cell_type": "markdown",
   "metadata": {},
   "source": [
    "Для разложения матриц библиотека Implicit предоставляет готовые реализации алгоритмов. Среди них такие как:\n",
    "\n",
    "* ALS (Alternating Least Squares) [подробнее](http://yifanhu.net/PUB/cf.pdf)\n",
    "\n",
    "* BPR (Bayesian Personalized Ranking) [подробнее](https://arxiv.org/ftp/arxiv/papers/1205/1205.2618.pdf)\n",
    "\n",
    "* Logistic Matrix Factorization\n",
    "\n",
    "В библиотеке данные алгоритмы представлены классами:"
   ]
  },
  {
   "cell_type": "code",
   "execution_count": null,
   "metadata": {},
   "outputs": [],
   "source": [
    "implicit.als.AlternatingLeastSquares\n",
    "implicit.bpr.BayesianPersonalizedRanking\n",
    "implicit.lmf.LogisticMatrixFactorization\n"
   ]
  },
  {
   "cell_type": "markdown",
   "metadata": {},
   "source": [
    "### Примеры использования\n",
    "\n",
    "https://github.com/benfred/implicit/blob/master/examples/lastfm.py\n",
    "\n",
    "https://github.com/benfred/implicit/blob/master/examples/movielens.py"
   ]
  }
 ],
 "metadata": {
  "kernelspec": {
   "display_name": "Python 3",
   "language": "python",
   "name": "python3"
  },
  "language_info": {
   "codemirror_mode": {
    "name": "ipython",
    "version": 3
   },
   "file_extension": ".py",
   "mimetype": "text/x-python",
   "name": "python",
   "nbconvert_exporter": "python",
   "pygments_lexer": "ipython3",
   "version": "3.8.5"
  }
 },
 "nbformat": 4,
 "nbformat_minor": 4
}
